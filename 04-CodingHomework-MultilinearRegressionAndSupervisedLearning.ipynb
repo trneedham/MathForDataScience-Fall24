{
 "cells": [
  {
   "cell_type": "markdown",
   "id": "f5327659",
   "metadata": {},
   "source": [
    "# Multilinear Regression and Supervised Learning\n",
    "\n",
    "In this assignment, you will explore the regression and classification models that we discussed in class. While the class discussion was focused on theory, the focus here is on applying the methods to data."
   ]
  },
  {
   "cell_type": "markdown",
   "id": "c415d060",
   "metadata": {},
   "source": [
    "We'll use a couple of new packages for loading and manipulating data:\n",
    " - `seaborn` is mostly for visualization of statistical analyses of data, but has some useful datasets that can be loaded from the package\n",
    " - `pandas` is a useful tool for working with spreadsheet-style data (technically, the data type used here is called a \"dataframe\")"
   ]
  },
  {
   "cell_type": "code",
   "execution_count": 1,
   "id": "cf1774ce",
   "metadata": {},
   "outputs": [],
   "source": [
    "import numpy as np\n",
    "import seaborn as sns\n",
    "import pandas as pd\n",
    "import matplotlib.pyplot as plt"
   ]
  },
  {
   "cell_type": "markdown",
   "id": "4a642766",
   "metadata": {},
   "source": [
    "## Multilinear Regression"
   ]
  },
  {
   "cell_type": "markdown",
   "id": "f9bfb23d",
   "metadata": {},
   "source": [
    "### Loading Data"
   ]
  },
  {
   "cell_type": "markdown",
   "id": "4b511f00",
   "metadata": {},
   "source": [
    "We'll load a dataset containing various statistics about car models, including their typical miles-per-gallon (mpg)."
   ]
  },
  {
   "cell_type": "code",
   "execution_count": 2,
   "id": "9dfc6fbd",
   "metadata": {},
   "outputs": [],
   "source": [
    "mpg_data = sns.load_dataset(\"mpg\")"
   ]
  },
  {
   "cell_type": "markdown",
   "id": "0c1d4ad2",
   "metadata": {},
   "source": [
    "To get an idea for what the data looks like, we can look at the first few lines using the following command."
   ]
  },
  {
   "cell_type": "code",
   "execution_count": 3,
   "id": "18b72496",
   "metadata": {},
   "outputs": [
    {
     "data": {
      "text/html": [
       "<div>\n",
       "<style scoped>\n",
       "    .dataframe tbody tr th:only-of-type {\n",
       "        vertical-align: middle;\n",
       "    }\n",
       "\n",
       "    .dataframe tbody tr th {\n",
       "        vertical-align: top;\n",
       "    }\n",
       "\n",
       "    .dataframe thead th {\n",
       "        text-align: right;\n",
       "    }\n",
       "</style>\n",
       "<table border=\"1\" class=\"dataframe\">\n",
       "  <thead>\n",
       "    <tr style=\"text-align: right;\">\n",
       "      <th></th>\n",
       "      <th>mpg</th>\n",
       "      <th>cylinders</th>\n",
       "      <th>displacement</th>\n",
       "      <th>horsepower</th>\n",
       "      <th>weight</th>\n",
       "      <th>acceleration</th>\n",
       "      <th>model_year</th>\n",
       "      <th>origin</th>\n",
       "      <th>name</th>\n",
       "    </tr>\n",
       "  </thead>\n",
       "  <tbody>\n",
       "    <tr>\n",
       "      <th>0</th>\n",
       "      <td>18.0</td>\n",
       "      <td>8</td>\n",
       "      <td>307.0</td>\n",
       "      <td>130.0</td>\n",
       "      <td>3504</td>\n",
       "      <td>12.0</td>\n",
       "      <td>70</td>\n",
       "      <td>usa</td>\n",
       "      <td>chevrolet chevelle malibu</td>\n",
       "    </tr>\n",
       "    <tr>\n",
       "      <th>1</th>\n",
       "      <td>15.0</td>\n",
       "      <td>8</td>\n",
       "      <td>350.0</td>\n",
       "      <td>165.0</td>\n",
       "      <td>3693</td>\n",
       "      <td>11.5</td>\n",
       "      <td>70</td>\n",
       "      <td>usa</td>\n",
       "      <td>buick skylark 320</td>\n",
       "    </tr>\n",
       "    <tr>\n",
       "      <th>2</th>\n",
       "      <td>18.0</td>\n",
       "      <td>8</td>\n",
       "      <td>318.0</td>\n",
       "      <td>150.0</td>\n",
       "      <td>3436</td>\n",
       "      <td>11.0</td>\n",
       "      <td>70</td>\n",
       "      <td>usa</td>\n",
       "      <td>plymouth satellite</td>\n",
       "    </tr>\n",
       "    <tr>\n",
       "      <th>3</th>\n",
       "      <td>16.0</td>\n",
       "      <td>8</td>\n",
       "      <td>304.0</td>\n",
       "      <td>150.0</td>\n",
       "      <td>3433</td>\n",
       "      <td>12.0</td>\n",
       "      <td>70</td>\n",
       "      <td>usa</td>\n",
       "      <td>amc rebel sst</td>\n",
       "    </tr>\n",
       "    <tr>\n",
       "      <th>4</th>\n",
       "      <td>17.0</td>\n",
       "      <td>8</td>\n",
       "      <td>302.0</td>\n",
       "      <td>140.0</td>\n",
       "      <td>3449</td>\n",
       "      <td>10.5</td>\n",
       "      <td>70</td>\n",
       "      <td>usa</td>\n",
       "      <td>ford torino</td>\n",
       "    </tr>\n",
       "  </tbody>\n",
       "</table>\n",
       "</div>"
      ],
      "text/plain": [
       "    mpg  cylinders  displacement  horsepower  weight  acceleration  \\\n",
       "0  18.0          8         307.0       130.0    3504          12.0   \n",
       "1  15.0          8         350.0       165.0    3693          11.5   \n",
       "2  18.0          8         318.0       150.0    3436          11.0   \n",
       "3  16.0          8         304.0       150.0    3433          12.0   \n",
       "4  17.0          8         302.0       140.0    3449          10.5   \n",
       "\n",
       "   model_year origin                       name  \n",
       "0          70    usa  chevrolet chevelle malibu  \n",
       "1          70    usa          buick skylark 320  \n",
       "2          70    usa         plymouth satellite  \n",
       "3          70    usa              amc rebel sst  \n",
       "4          70    usa                ford torino  "
      ]
     },
     "execution_count": 3,
     "metadata": {},
     "output_type": "execute_result"
    }
   ],
   "source": [
    "mpg_data.head()"
   ]
  },
  {
   "cell_type": "markdown",
   "id": "77bfe281",
   "metadata": {},
   "source": [
    "We can see that there are 398 data samples with 9 pieces of information per sample."
   ]
  },
  {
   "cell_type": "code",
   "execution_count": 4,
   "id": "00b94aa7",
   "metadata": {},
   "outputs": [
    {
     "data": {
      "text/plain": [
       "(398, 9)"
      ]
     },
     "execution_count": 4,
     "metadata": {},
     "output_type": "execute_result"
    }
   ],
   "source": [
    "mpg_data.shape"
   ]
  },
  {
   "cell_type": "markdown",
   "id": "d6e60ed3",
   "metadata": {},
   "source": [
    "However, if we look through the data, we see that some entries in the 'horsepower' column are not numbers."
   ]
  },
  {
   "cell_type": "code",
   "execution_count": 5,
   "id": "c1d2b690",
   "metadata": {},
   "outputs": [
    {
     "data": {
      "text/plain": [
       "array([130., 165., 150., 150., 140., 198., 220., 215., 225., 190., 170.,\n",
       "       160., 150., 225.,  95.,  95.,  97.,  85.,  88.,  46.,  87.,  90.,\n",
       "        95., 113.,  90., 215., 200., 210., 193.,  88.,  90.,  95.,  nan,\n",
       "       100., 105., 100.,  88., 100., 165., 175., 153., 150., 180., 170.,\n",
       "       175., 110.,  72., 100.,  88.,  86.,  90.,  70.,  76.,  65.,  69.,\n",
       "        60.,  70.,  95.,  80.,  54.,  90.,  86., 165., 175., 150., 153.,\n",
       "       150., 208., 155., 160., 190.,  97., 150., 130., 140., 150., 112.,\n",
       "        76.,  87.,  69.,  86.,  92.,  97.,  80.,  88., 175., 150., 145.,\n",
       "       137., 150., 198., 150., 158., 150., 215., 225., 175., 105., 100.,\n",
       "       100.,  88.,  95.,  46., 150., 167., 170., 180., 100.,  88.,  72.,\n",
       "        94.,  90.,  85., 107.,  90., 145., 230.,  49.,  75.,  91., 112.,\n",
       "       150., 110., 122., 180.,  95.,  nan, 100., 100.,  67.,  80.,  65.,\n",
       "        75., 100., 110., 105., 140., 150., 150., 140., 150.,  83.,  67.,\n",
       "        78.,  52.,  61.,  75.,  75.,  75.,  97.,  93.,  67.,  95., 105.,\n",
       "        72.,  72., 170., 145., 150., 148., 110., 105., 110.,  95., 110.,\n",
       "       110., 129.,  75.,  83., 100.,  78.,  96.,  71.,  97.,  97.,  70.,\n",
       "        90.,  95.,  88.,  98., 115.,  53.,  86.,  81.,  92.,  79.,  83.,\n",
       "       140., 150., 120., 152., 100., 105.,  81.,  90.,  52.,  60.,  70.,\n",
       "        53., 100.,  78., 110.,  95.,  71.,  70.,  75.,  72., 102., 150.,\n",
       "        88., 108., 120., 180., 145., 130., 150.,  68.,  80.,  58.,  96.,\n",
       "        70., 145., 110., 145., 130., 110., 105., 100.,  98., 180., 170.,\n",
       "       190., 149.,  78.,  88.,  75.,  89.,  63.,  83.,  67.,  78.,  97.,\n",
       "       110., 110.,  48.,  66.,  52.,  70.,  60., 110., 140., 139., 105.,\n",
       "        95.,  85.,  88., 100.,  90., 105.,  85., 110., 120., 145., 165.,\n",
       "       139., 140.,  68.,  95.,  97.,  75.,  95., 105.,  85.,  97., 103.,\n",
       "       125., 115., 133.,  71.,  68., 115.,  85.,  88.,  90., 110., 130.,\n",
       "       129., 138., 135., 155., 142., 125., 150.,  71.,  65.,  80.,  80.,\n",
       "        77., 125.,  71.,  90.,  70.,  70.,  65.,  69.,  90., 115., 115.,\n",
       "        90.,  76.,  60.,  70.,  65.,  90.,  88.,  90.,  90.,  78.,  90.,\n",
       "        75.,  92.,  75.,  65., 105.,  65.,  48.,  48.,  67.,  67.,  67.,\n",
       "        nan,  67.,  62., 132., 100.,  88.,  nan,  72.,  84.,  84.,  92.,\n",
       "       110.,  84.,  58.,  64.,  60.,  67.,  65.,  62.,  68.,  63.,  65.,\n",
       "        65.,  74.,  nan,  75.,  75., 100.,  74.,  80.,  76., 116., 120.,\n",
       "       110., 105.,  88.,  85.,  88.,  88.,  88.,  85.,  84.,  90.,  92.,\n",
       "        nan,  74.,  68.,  68.,  63.,  70.,  88.,  75.,  70.,  67.,  67.,\n",
       "        67., 110.,  85.,  92., 112.,  96.,  84.,  90.,  86.,  52.,  84.,\n",
       "        79.,  82.])"
      ]
     },
     "execution_count": 5,
     "metadata": {},
     "output_type": "execute_result"
    }
   ],
   "source": [
    "np.array(mpg_data['horsepower'])"
   ]
  },
  {
   "cell_type": "markdown",
   "id": "207a2102",
   "metadata": {},
   "source": [
    "We'll remove any rows from our data where `nan` appears."
   ]
  },
  {
   "cell_type": "code",
   "execution_count": 6,
   "id": "d0b0ed2d",
   "metadata": {},
   "outputs": [],
   "source": [
    "mpg_data = mpg_data.dropna()"
   ]
  },
  {
   "cell_type": "code",
   "execution_count": 7,
   "id": "51834000",
   "metadata": {},
   "outputs": [
    {
     "data": {
      "text/plain": [
       "(392, 9)"
      ]
     },
     "execution_count": 7,
     "metadata": {},
     "output_type": "execute_result"
    }
   ],
   "source": [
    "mpg_data.shape"
   ]
  },
  {
   "cell_type": "markdown",
   "id": "693a2c55",
   "metadata": {},
   "source": [
    "Now let's fit this into the regression framework that we described in class. \n",
    "\n",
    "We will train our model to predict mpg from the remaining numerical variables (cylinders, displacement, horsepower, weight, acceleration, model_year). This means that our data matrix should be of the form\n",
    "$$\n",
    "X = \\left[\\begin{array}{c}\n",
    "\\vec{x}_1^T \\\\\n",
    "\\vdots \\\\\n",
    "\\vec{x}_{398}^T \\end{array}\\right] \\in \\mathbb{R}^{398 \\times 6},\n",
    "$$\n",
    "where each $\\vec{x}_i$ is a vector of 6 numerical measurements for car model $i$. The vector we are trying to predict is of the form\n",
    "$$\n",
    "\\vec{y} = \\left[\\begin{array}{c}\n",
    "y_1 \\\\\n",
    "\\vdots \\\\\n",
    "y_{398}\\end{array}\\right] \\in \\mathbb{R}^{398},\n",
    "$$\n",
    "where each $y_i$ is the mpg for care model $i$. \n",
    "\n",
    "Let's set these up as `numpy` arrays:"
   ]
  },
  {
   "cell_type": "code",
   "execution_count": 53,
   "id": "54650788",
   "metadata": {},
   "outputs": [],
   "source": [
    "X = np.array(mpg_data[['cylinders','displacement','horsepower','weight','acceleration','model_year']])\n",
    "y = np.array(mpg_data['mpg'])"
   ]
  },
  {
   "cell_type": "markdown",
   "id": "a9a774ad",
   "metadata": {},
   "source": [
    "### Building a Multilinear Regression Model\n",
    "\n",
    "Recall the general setup for multilinear regression: give a data matrix $X \\in \\mathbb{R}^{N \\times d}$ with $N$ samples and $d$ features and a vector of observations $\\vec{y} \\in \\mathbb{R}^N$, our goal is to find parameters $\\beta_0,\\beta_1,\\ldots,\\beta_d$ such that the loss function\n",
    "$$\n",
    "L(\\beta_0,\\ldots,\\beta_d) = \\sum_{i=1}^N \\left( y_i - (\\beta_0 + \\beta_1 (\\vec{x}_i)_1 + \\cdots + \\beta_d (\\vec{x}_i)_d) \\right)^2.\n",
    "$$\n",
    "In this formula, $y_i$ is the $i$th entry of $\\vec{y}$, $\\vec{x}_i$ is the $i$th data sample (so $\\vec{x}_i^T$ is the $i$th row of $X$), and $(\\vec{x}_i)_j$ is the $j$th entry of the data vector $\\vec{x}_i$.\n",
    "\n",
    "We will now build our model, which means finding the best parameters. There are a couple of sublties that we didn't address in class, which we will handle now."
   ]
  },
  {
   "cell_type": "markdown",
   "id": "270e46cb",
   "metadata": {},
   "source": [
    "### Adding Bias\n",
    "\n",
    "To incorporate the $\\beta_0$ term (this is sometimes referred to in machine learning as the *bias*) in the model, we need to do is add a column of all ones to our data matrix $X$. After we do this, all of the other analysis that we did in class will still go through."
   ]
  },
  {
   "cell_type": "markdown",
   "id": "92901a1a",
   "metadata": {},
   "source": [
    "**Problem 1.** Fix the data matrix `X` defined above by adding a column of ones. Do this so that the *first* column contains ones. That is, the current $X \\in \\mathbb{R}^{398 \\times 6}$ should be replaced by a new $X \\in \\mathbb{R}^{398 \\times 7}$ whose first column contains all ones and whose remaining columns are copied over from the original data matrix.\n",
    "\n",
    "**Note:** Code below will assume that your new data matrix is still called `X`."
   ]
  },
  {
   "cell_type": "code",
   "execution_count": 57,
   "id": "e1a11558",
   "metadata": {},
   "outputs": [],
   "source": [
    "## Your code goes here\n"
   ]
  },
  {
   "cell_type": "markdown",
   "id": "0e767acc",
   "metadata": {},
   "source": [
    "### Train-Test Split"
   ]
  },
  {
   "cell_type": "markdown",
   "id": "b0ec3122",
   "metadata": {},
   "source": [
    "Typically when one trains a model, it is trained on a subset of the data. The resulting model can then be tested on the remaining data that it did not see during the training phase. The following code picks out a percentage of rows from $X$ randomly, together with corresponding entries of $\\vec{y}$, as the 'training set' and leaves the rest out as a 'testing set'."
   ]
  },
  {
   "cell_type": "code",
   "execution_count": 59,
   "id": "ede219fd",
   "metadata": {},
   "outputs": [],
   "source": [
    "from sklearn.model_selection import train_test_split\n",
    "\n",
    "X_train, X_test, y_train, y_test = train_test_split(X, y, test_size = 0.3)"
   ]
  },
  {
   "cell_type": "markdown",
   "id": "e2fb8bce",
   "metadata": {},
   "source": [
    "### Training the Model\n",
    "\n",
    "Now recall that we found an explicit formula for the optimal parameters in the multilinear regression problem. Let $\\vec{\\beta} = [\\beta_0 \\beta_1 \\cdots \\beta_d]^T$ be the optimal parameter vector. It is given by the formula\n",
    "$$\n",
    "\\vec{\\beta} = \\left(X^T X\\right)^{-1} X^T \\vec{y}.\n",
    "$$"
   ]
  },
  {
   "cell_type": "markdown",
   "id": "b984a68f",
   "metadata": {},
   "source": [
    "**Problem 2.** Find the optimal parameters for the training set using the formula above. Call your optimal parameter vector `betas`. Print out your answer. \n",
    "\n",
    "**Remark:** You need to figure out python code for the various matrix manipulations (transposes, inverting a matrix, etc.). Feel free to search the internet and/or discuss the problem with classmates to figure out how to do this!"
   ]
  },
  {
   "cell_type": "code",
   "execution_count": 60,
   "id": "f68a14f5",
   "metadata": {},
   "outputs": [
    {
     "data": {
      "text/plain": [
       "array([[1.000e+00, 6.000e+00, 2.250e+02, ..., 3.630e+03, 1.770e+01,\n",
       "        7.700e+01],\n",
       "       [1.000e+00, 8.000e+00, 3.180e+02, ..., 4.498e+03, 1.450e+01,\n",
       "        7.500e+01],\n",
       "       [1.000e+00, 4.000e+00, 7.800e+01, ..., 1.985e+03, 1.940e+01,\n",
       "        7.800e+01],\n",
       "       ...,\n",
       "       [1.000e+00, 4.000e+00, 9.000e+01, ..., 1.937e+03, 1.400e+01,\n",
       "        7.500e+01],\n",
       "       [1.000e+00, 6.000e+00, 2.500e+02, ..., 3.459e+03, 1.600e+01,\n",
       "        7.500e+01],\n",
       "       [1.000e+00, 4.000e+00, 1.190e+02, ..., 2.434e+03, 1.500e+01,\n",
       "        8.000e+01]])"
      ]
     },
     "execution_count": 60,
     "metadata": {},
     "output_type": "execute_result"
    }
   ],
   "source": [
    "X_train"
   ]
  },
  {
   "cell_type": "code",
   "execution_count": 61,
   "id": "7221a58a",
   "metadata": {},
   "outputs": [],
   "source": [
    "## Your code goes here.\n",
    "\n"
   ]
  },
  {
   "cell_type": "code",
   "execution_count": 62,
   "id": "4fefa0ce",
   "metadata": {},
   "outputs": [
    {
     "data": {
      "text/plain": [
       "array([-1.58953528e+01,  1.03747889e-01, -2.65357748e-03,  2.29738497e-03,\n",
       "       -6.49619993e-03,  7.11509231e-03,  7.65911713e-01])"
      ]
     },
     "execution_count": 62,
     "metadata": {},
     "output_type": "execute_result"
    }
   ],
   "source": [
    "betas"
   ]
  },
  {
   "cell_type": "markdown",
   "id": "72a49e94",
   "metadata": {},
   "source": [
    "We can test the performance of our model by making predictions on the testing data, which was not incorporated into our training step. "
   ]
  },
  {
   "cell_type": "markdown",
   "id": "ccb3082a",
   "metadata": {},
   "source": [
    "**Problem 3.** Create a vector `y_pred` containing the predicted `mpg` values of the data from your testing set. \n",
    "\n",
    "**Hint:** This can be done by multiplying a certain matrix with a certain vector."
   ]
  },
  {
   "cell_type": "code",
   "execution_count": 63,
   "id": "964c480b",
   "metadata": {},
   "outputs": [],
   "source": [
    "## Your code goes here.\n"
   ]
  },
  {
   "cell_type": "markdown",
   "id": "3a00714a",
   "metadata": {},
   "source": [
    "The code below plots the predicted `mpg` values on the test set, versus the true values from `y_test`. The results look reasonable, but to get a real feel for the quality of our results, we would want to test against other models."
   ]
  },
  {
   "cell_type": "code",
   "execution_count": 64,
   "id": "914cf368",
   "metadata": {},
   "outputs": [
    {
     "data": {
      "image/png": "[encoded data removed]",
      "text/plain": [
       "<Figure size 504x360 with 1 Axes>"
      ]
     },
     "metadata": {
      "needs_background": "light"
     },
     "output_type": "display_data"
    }
   ],
   "source": [
    "plt.figure(figsize = (7,5))\n",
    "plt.plot(y_pred,'o', label = 'Predicted')\n",
    "plt.plot(y_test,'x', label = 'Ground Truth')\n",
    "plt.title('Multilinear Regression Results')\n",
    "plt.xlabel(\"Samples\")\n",
    "plt.ylabel(\"MPG\")\n",
    "plt.legend()\n",
    "plt.show()"
   ]
  },
  {
   "cell_type": "markdown",
   "id": "11d5fef9",
   "metadata": {},
   "source": [
    "## Supervised Learning for Classification\n",
    "\n",
    "The multilinear regression model we created above is designed for predicting a continuous observation. Many machine learning models are designed to predict labels for labeled data (e.g., images). We will now explore some of these methods."
   ]
  },
  {
   "cell_type": "markdown",
   "id": "1f4f469c",
   "metadata": {},
   "source": [
    "### Loading the Data\n",
    "\n",
    "For this part of the notebook, we'll use the (small, built-in `sklearn` version of the) MNIST dataset of handwritten digits. "
   ]
  },
  {
   "cell_type": "code",
   "execution_count": 65,
   "id": "6c884576",
   "metadata": {},
   "outputs": [],
   "source": [
    "from sklearn import datasets\n",
    "digits = datasets.load_digits()"
   ]
  },
  {
   "cell_type": "markdown",
   "id": "624e8b6a",
   "metadata": {},
   "source": [
    "Recall that the data consists of many handwritten digits and their correct labels."
   ]
  },
  {
   "cell_type": "code",
   "execution_count": 66,
   "id": "3401410d",
   "metadata": {},
   "outputs": [
    {
     "data": {
      "image/png": "[encoded data removed]",
      "text/plain": [
       "<Figure size 720x360 with 10 Axes>"
      ]
     },
     "metadata": {
      "needs_background": "light"
     },
     "output_type": "display_data"
    }
   ],
   "source": [
    "fig = plt.figure(figsize=(10,5))\n",
    "\n",
    "for j in range(10):\n",
    "    fig.add_subplot(2,5,j+1)\n",
    "    plt.imshow(digits.images[j], cmap='gray')"
   ]
  },
  {
   "cell_type": "markdown",
   "id": "848c7d51",
   "metadata": {},
   "source": [
    "We can treat each image as a vector in $\\mathbb{R}^{8 \\times 8} \\approx \\mathbb{R}^{64}$. Conveniently, `digits.data` reshapes each image into a 64 dimensional vector. Let's create a train/test split of this vectorized data."
   ]
  },
  {
   "cell_type": "code",
   "execution_count": 67,
   "id": "f243d5e3",
   "metadata": {},
   "outputs": [],
   "source": [
    "from sklearn.model_selection import train_test_split\n",
    "\n",
    "MNIST = digits.data\n",
    "MNISTlabels = digits.target\n",
    "\n",
    "MNIST_train, MNIST_test, MNISTlabels_train, MNISTlabels_test = train_test_split(MNIST, MNISTlabels)"
   ]
  },
  {
   "cell_type": "markdown",
   "id": "4ba7398d",
   "metadata": {},
   "source": [
    "As we discussed in class, we can use Logistic Regression for classification. The version that we discussed in class was only for classifying datasets with two labels ('cats' versus 'dogs', say), but this can be generalized to handle datasets with an arbitrary number of labels. In this case, we have 10 labels (one for each digit). \n",
    "\n",
    "The code below trains the logistic regression model on the training data (i.e., finds the best parameters for the model). This is standard `sklearn` syntax. Note that this training process uses a version of gradient descent to find optimal values, rather than an explicit formula as in the multilinear regression example."
   ]
  },
  {
   "cell_type": "code",
   "execution_count": 68,
   "id": "d679b4f7",
   "metadata": {},
   "outputs": [
    {
     "data": {
      "text/html": [
       "<style>#sk-container-id-1 {color: black;background-color: white;}#sk-container-id-1 pre{padding: 0;}#sk-container-id-1 div.sk-toggleable {background-color: white;}#sk-container-id-1 label.sk-toggleable__label {cursor: pointer;display: block;width: 100%;margin-bottom: 0;padding: 0.3em;box-sizing: border-box;text-align: center;}#sk-container-id-1 label.sk-toggleable__label-arrow:before {content: \"▸\";float: left;margin-right: 0.25em;color: #696969;}#sk-container-id-1 label.sk-toggleable__label-arrow:hover:before {color: black;}#sk-container-id-1 div.sk-estimator:hover label.sk-toggleable__label-arrow:before {color: black;}#sk-container-id-1 div.sk-toggleable__content {max-height: 0;max-width: 0;overflow: hidden;text-align: left;background-color: #f0f8ff;}#sk-container-id-1 div.sk-toggleable__content pre {margin: 0.2em;color: black;border-radius: 0.25em;background-color: #f0f8ff;}#sk-container-id-1 input.sk-toggleable__control:checked~div.sk-toggleable__content {max-height: 200px;max-width: 100%;overflow: auto;}#sk-container-id-1 input.sk-toggleable__control:checked~label.sk-toggleable__label-arrow:before {content: \"▾\";}#sk-container-id-1 div.sk-estimator input.sk-toggleable__control:checked~label.sk-toggleable__label {background-color: #d4ebff;}#sk-container-id-1 div.sk-label input.sk-toggleable__control:checked~label.sk-toggleable__label {background-color: #d4ebff;}#sk-container-id-1 input.sk-hidden--visually {border: 0;clip: rect(1px 1px 1px 1px);clip: rect(1px, 1px, 1px, 1px);height: 1px;margin: -1px;overflow: hidden;padding: 0;position: absolute;width: 1px;}#sk-container-id-1 div.sk-estimator {font-family: monospace;background-color: #f0f8ff;border: 1px dotted black;border-radius: 0.25em;box-sizing: border-box;margin-bottom: 0.5em;}#sk-container-id-1 div.sk-estimator:hover {background-color: #d4ebff;}#sk-container-id-1 div.sk-parallel-item::after {content: \"\";width: 100%;border-bottom: 1px solid gray;flex-grow: 1;}#sk-container-id-1 div.sk-label:hover label.sk-toggleable__label {background-color: #d4ebff;}#sk-container-id-1 div.sk-serial::before {content: \"\";position: absolute;border-left: 1px solid gray;box-sizing: border-box;top: 0;bottom: 0;left: 50%;z-index: 0;}#sk-container-id-1 div.sk-serial {display: flex;flex-direction: column;align-items: center;background-color: white;padding-right: 0.2em;padding-left: 0.2em;position: relative;}#sk-container-id-1 div.sk-item {position: relative;z-index: 1;}#sk-container-id-1 div.sk-parallel {display: flex;align-items: stretch;justify-content: center;background-color: white;position: relative;}#sk-container-id-1 div.sk-item::before, #sk-container-id-1 div.sk-parallel-item::before {content: \"\";position: absolute;border-left: 1px solid gray;box-sizing: border-box;top: 0;bottom: 0;left: 50%;z-index: -1;}#sk-container-id-1 div.sk-parallel-item {display: flex;flex-direction: column;z-index: 1;position: relative;background-color: white;}#sk-container-id-1 div.sk-parallel-item:first-child::after {align-self: flex-end;width: 50%;}#sk-container-id-1 div.sk-parallel-item:last-child::after {align-self: flex-start;width: 50%;}#sk-container-id-1 div.sk-parallel-item:only-child::after {width: 0;}#sk-container-id-1 div.sk-dashed-wrapped {border: 1px dashed gray;margin: 0 0.4em 0.5em 0.4em;box-sizing: border-box;padding-bottom: 0.4em;background-color: white;}#sk-container-id-1 div.sk-label label {font-family: monospace;font-weight: bold;display: inline-block;line-height: 1.2em;}#sk-container-id-1 div.sk-label-container {text-align: center;}#sk-container-id-1 div.sk-container {/* jupyter's `normalize.less` sets `[hidden] { display: none; }` but bootstrap.min.css set `[hidden] { display: none !important; }` so we also need the `!important` here to be able to override the default hidden behavior on the sphinx rendered scikit-learn.org. See: https://github.com/scikit-learn/scikit-learn/issues/21755 */display: inline-block !important;position: relative;}#sk-container-id-1 div.sk-text-repr-fallback {display: none;}</style><div id=\"sk-container-id-1\" class=\"sk-top-container\"><div class=\"sk-text-repr-fallback\"><pre>LogisticRegression(max_iter=10000, multi_class=&#x27;multinomial&#x27;)</pre><b>In a Jupyter environment, please rerun this cell to show the HTML representation or trust the notebook. <br />On GitHub, the HTML representation is unable to render, please try loading this page with nbviewer.org.</b></div><div class=\"sk-container\" hidden><div class=\"sk-item\"><div class=\"sk-estimator sk-toggleable\"><input class=\"sk-toggleable__control sk-hidden--visually\" id=\"sk-estimator-id-1\" type=\"checkbox\" checked><label for=\"sk-estimator-id-1\" class=\"sk-toggleable__label sk-toggleable__label-arrow\">LogisticRegression</label><div class=\"sk-toggleable__content\"><pre>LogisticRegression(max_iter=10000, multi_class=&#x27;multinomial&#x27;)</pre></div></div></div></div></div>"
      ],
      "text/plain": [
       "LogisticRegression(max_iter=10000, multi_class='multinomial')"
      ]
     },
     "execution_count": 68,
     "metadata": {},
     "output_type": "execute_result"
    }
   ],
   "source": [
    "from sklearn.linear_model import LogisticRegression\n",
    "\n",
    "model = LogisticRegression(solver='lbfgs', multi_class = 'multinomial', max_iter=10000)\n",
    "model.fit(MNIST_train, MNISTlabels_train)"
   ]
  },
  {
   "cell_type": "markdown",
   "id": "a423c7f6",
   "metadata": {},
   "source": [
    "Logistic regression with two labels works by finding a good hyperplane to split the two classes of data vectors (for precise definitions, refer back to the lecture notes). For multiclass logistic regression, we get a hyperplane for each class label. This can be seen in the shape of the coefficients for the model:"
   ]
  },
  {
   "cell_type": "code",
   "execution_count": 69,
   "id": "96d7fa9a",
   "metadata": {},
   "outputs": [
    {
     "data": {
      "text/plain": [
       "(10, 64)"
      ]
     },
     "execution_count": 69,
     "metadata": {},
     "output_type": "execute_result"
    }
   ],
   "source": [
    "model.coef_.shape"
   ]
  },
  {
   "cell_type": "markdown",
   "id": "1b44c3b1",
   "metadata": {},
   "source": [
    "Now we can predict a label for each digit in our testing set. This is done using the built-in `predict` function for the model."
   ]
  },
  {
   "cell_type": "code",
   "execution_count": 70,
   "id": "8c1071c3",
   "metadata": {},
   "outputs": [],
   "source": [
    "MNIST_predicted = model.predict(MNIST_test)"
   ]
  },
  {
   "cell_type": "markdown",
   "id": "83c654e8",
   "metadata": {},
   "source": [
    "Let's take a look at some of the samples from our testing set, along with their predicted labels."
   ]
  },
  {
   "cell_type": "code",
   "execution_count": 71,
   "id": "4fccb014",
   "metadata": {},
   "outputs": [
    {
     "data": {
      "image/png": "[encoded data removed]",
      "text/plain": [
       "<Figure size 720x720 with 20 Axes>"
      ]
     },
     "metadata": {
      "needs_background": "light"
     },
     "output_type": "display_data"
    }
   ],
   "source": [
    "fig = plt.figure(figsize=(10,10))\n",
    "\n",
    "for j in range(20):\n",
    "    fig.add_subplot(4,5,j+1)\n",
    "    plt.imshow(MNIST_test[j].reshape(8,8), cmap='gray')\n",
    "    plt.axis('off')\n",
    "    plt.title('Pred. Label='+str(MNIST_predicted[j]))\n",
    "\n",
    "plt.show()"
   ]
  },
  {
   "cell_type": "markdown",
   "id": "548ac5fa",
   "metadata": {},
   "source": [
    "These results look pretty good. We can compute the overall prediction accuracy using the `score` function."
   ]
  },
  {
   "cell_type": "code",
   "execution_count": 72,
   "id": "9cd94b24",
   "metadata": {},
   "outputs": [
    {
     "name": "stdout",
     "output_type": "stream",
     "text": [
      "Prediction Accuracy: 0.96\n"
     ]
    }
   ],
   "source": [
    "print('Prediction Accuracy:',np.round(model.score(MNIST_test,MNISTlabels_test),2))"
   ]
  },
  {
   "cell_type": "markdown",
   "id": "051e039a",
   "metadata": {},
   "source": [
    "Logistic regression performs extremely well! It will probably be hard to beat this, but let's practice with some other models:"
   ]
  },
  {
   "cell_type": "markdown",
   "id": "9b88ad04",
   "metadata": {},
   "source": [
    "**Problem 4.** Repeat the above classification process using a different classification model. You can take your pick from [Multilayer Perceptron](https://scikit-learn.org/stable/modules/neural_networks_supervised.html#multi-layer-perceptron) (a simple neural network), [Decision Tree](https://scikit-learn.org/stable/modules/tree.html#classification), [Support Vector Machine](https://scikit-learn.org/stable/modules/svm.html#classification), or any other model that you like.\n",
    "\n",
    "**Remark:** If you haven't done this before, you'll need to dig into the documentation a little bit to see how these work. The syntax is mostly similar to the logistic regression model. The mathematical details of several of these models will be described in final project presentations!"
   ]
  },
  {
   "cell_type": "code",
   "execution_count": null,
   "id": "8abc98a6",
   "metadata": {},
   "outputs": [],
   "source": [
    "## Your code goes here.\n",
    "\n"
   ]
  }
 ],
 "metadata": {
  "kernelspec": {
   "display_name": "Python 3",
   "language": "python",
   "name": "python3"
  },
  "language_info": {
   "codemirror_mode": {
    "name": "ipython",
    "version": 3
   },
   "file_extension": ".py",
   "mimetype": "text/x-python",
   "name": "python",
   "nbconvert_exporter": "python",
   "pygments_lexer": "ipython3",
   "version": "3.8.8"
  }
 },
 "nbformat": 4,
 "nbformat_minor": 5
}
